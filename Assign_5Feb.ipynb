{
 "cells": [
  {
   "cell_type": "markdown",
   "id": "c91100a9-8c4b-4b6e-b3db-78b44cefce13",
   "metadata": {},
   "source": [
    "## Q1. Explain Class and Object with respect to Object-Oriented Programming. Give a suitable example."
   ]
  },
  {
   "cell_type": "markdown",
   "id": "cb95191a-53ae-4847-82f0-99a32634ab0c",
   "metadata": {},
   "source": [
    "#### Ans. Class is a blueprint in python which is used to create a new type of class.\n",
    "#### For example 'int' and 'str' are predefind class in python but we can create a new class which will have their specific using 'class'.\n",
    "#### Object is the variable or instance of the class which we create after producing class."
   ]
  },
  {
   "cell_type": "code",
   "execution_count": 13,
   "id": "f5907207-c059-48d6-8ccf-d60805cb4cad",
   "metadata": {},
   "outputs": [
    {
     "name": "stdout",
     "output_type": "stream",
     "text": [
      "<class '__main__.India'>\n"
     ]
    }
   ],
   "source": [
    "# Example:-\n",
    "class India:\n",
    "    pass\n",
    "\n",
    "a = India()\n",
    "print(type(a))"
   ]
  },
  {
   "cell_type": "markdown",
   "id": "c07efb7a-f322-4a11-9795-777c606b0d79",
   "metadata": {},
   "source": [
    "### Here, I created a class named 'Info' and 'a' is the object of the class Info.  "
   ]
  },
  {
   "cell_type": "code",
   "execution_count": null,
   "id": "61bfaca0-8e3d-41c9-bac6-cf053f76efde",
   "metadata": {},
   "outputs": [],
   "source": []
  },
  {
   "cell_type": "markdown",
   "id": "67413630-142c-4a80-920b-dfc72d1e94cb",
   "metadata": {},
   "source": [
    "## Q2. Name the four pillars of OOPs."
   ]
  },
  {
   "cell_type": "markdown",
   "id": "ebebbb63-4a3a-4b6a-ba68-f7b758f8f8e9",
   "metadata": {},
   "source": [
    "#### Ans.Foour pillers of OOPs are:-\n",
    "####        Inheritance\n",
    "####        Polymorphism\n",
    "####        Abstraction\n",
    "####        Encapsulation"
   ]
  },
  {
   "cell_type": "code",
   "execution_count": null,
   "id": "a8120050-59f1-41b0-852a-4c3bb687595a",
   "metadata": {},
   "outputs": [],
   "source": []
  },
  {
   "cell_type": "markdown",
   "id": "ba51fb90-5459-4fdb-837d-8d2b7194d831",
   "metadata": {},
   "source": [
    "## Q3. Explain why the __init__() function is used. Give a suitable example."
   ]
  },
  {
   "cell_type": "markdown",
   "id": "01596770-5fbb-4ecb-aba9-3f00f053a898",
   "metadata": {},
   "source": [
    "#### Ans.  While creating a class, init() function is used as a constructor which allow the objects of that class to take arguments as input.4"
   ]
  },
  {
   "cell_type": "code",
   "execution_count": 18,
   "id": "092e72ca-1f24-4fdd-a398-324ec96ef7a4",
   "metadata": {},
   "outputs": [
    {
     "name": "stdout",
     "output_type": "stream",
     "text": [
      "ABC\n",
      "10\n"
     ]
    }
   ],
   "source": [
    "class info:\n",
    "    def __init__(self, school_name, standard):\n",
    "        self.school = school_name\n",
    "        self.standard = standard\n",
    "    \n",
    "b = info('ABC', 10)\n",
    "print(b.school)\n",
    "print(b.standard)\n"
   ]
  },
  {
   "cell_type": "code",
   "execution_count": null,
   "id": "ad552de6-e385-4f9c-aa40-9b506dfa503a",
   "metadata": {},
   "outputs": [],
   "source": []
  },
  {
   "cell_type": "markdown",
   "id": "58b2b3e9-e060-4ce4-9128-2ebcda08674f",
   "metadata": {},
   "source": [
    "## Q4. Why self is used in OOPs?"
   ]
  },
  {
   "cell_type": "markdown",
   "id": "0fd7aea6-ae02-4743-9194-7ba8e28f76c0",
   "metadata": {},
   "source": [
    "#### Ans.\n",
    "#### 'Self' is used to refer that particular class  so that when we pass argument in an object of that class, it will know that these arguments belongs to that particular object."
   ]
  },
  {
   "cell_type": "code",
   "execution_count": null,
   "id": "2771494e-234f-4dbe-8003-79e2794d0749",
   "metadata": {},
   "outputs": [],
   "source": []
  },
  {
   "cell_type": "markdown",
   "id": "bfeb2b34-a439-4b7e-8089-d48889f70434",
   "metadata": {},
   "source": [
    "## Q5. What is inheritance? Give an example for each type of inheritance."
   ]
  },
  {
   "cell_type": "markdown",
   "id": "049d37b9-9a68-4745-a70f-abe1f08fdb69",
   "metadata": {},
   "source": [
    "#### Ans. Inheritance is a mechanism which allows a class to aquire the functionality, property and code of an another class."
   ]
  },
  {
   "cell_type": "markdown",
   "id": "6144446a-d2e4-4898-ac22-b6484b33530c",
   "metadata": {},
   "source": [
    "#### Types of inheritance:-"
   ]
  },
  {
   "cell_type": "markdown",
   "id": "64583fcc-6ac5-471e-b89c-7652c2b89d6d",
   "metadata": {},
   "source": [
    "#### 1. Single Inheritance:-"
   ]
  },
  {
   "cell_type": "code",
   "execution_count": 20,
   "id": "fc4419f2-667e-4efd-babc-a13ecd74c5d7",
   "metadata": {},
   "outputs": [],
   "source": [
    "class A:\n",
    "    pass\n",
    "\n",
    "class B(A):\n",
    "    pass"
   ]
  },
  {
   "cell_type": "markdown",
   "id": "53c7de7a-cf39-4b76-8bc6-efa4357b984a",
   "metadata": {},
   "source": [
    "#### 2. Multiple Inheritance:-"
   ]
  },
  {
   "cell_type": "code",
   "execution_count": 21,
   "id": "1596a24c-8415-4b8c-9ac6-c8a880a1abd4",
   "metadata": {},
   "outputs": [],
   "source": [
    "class A:\n",
    "    pass\n",
    "\n",
    "class B:\n",
    "    pass\n",
    "\n",
    "class C(A,B):\n",
    "    pass"
   ]
  },
  {
   "cell_type": "markdown",
   "id": "518de60e-0678-4d3e-8304-67ace9f455fe",
   "metadata": {},
   "source": [
    "#### 3. Multilevel Inheritance:-"
   ]
  },
  {
   "cell_type": "code",
   "execution_count": 22,
   "id": "be2a63c1-9396-4440-8da5-8d4d339f8086",
   "metadata": {},
   "outputs": [],
   "source": [
    "class A:\n",
    "    pass\n",
    "\n",
    "class B(A):\n",
    "    pass\n",
    "\n",
    "class C(B):\n",
    "    pass"
   ]
  },
  {
   "cell_type": "markdown",
   "id": "b532c936-c3e9-4d82-958f-b09d268e4713",
   "metadata": {},
   "source": [
    "#### 4. Hierarchical Inheritance:-"
   ]
  },
  {
   "cell_type": "code",
   "execution_count": 23,
   "id": "b4ce6387-949b-4372-9749-b87920ef1e9e",
   "metadata": {},
   "outputs": [],
   "source": [
    "class A:\n",
    "    pass\n",
    "\n",
    "class B(A):\n",
    "    pass\n",
    "\n",
    "class C(A):\n",
    "    pass"
   ]
  },
  {
   "cell_type": "markdown",
   "id": "eb763e01-49c4-4aea-a8b0-86b7c0d2aa91",
   "metadata": {},
   "source": [
    "#### 5. Hybrid Inheritance:-"
   ]
  },
  {
   "cell_type": "code",
   "execution_count": null,
   "id": "db0b30d1-e003-4d3a-92df-fcec1158169d",
   "metadata": {},
   "outputs": [],
   "source": [
    "class A:\n",
    "    pass\n",
    "\n",
    "class B(A):\n",
    "    pass\n",
    "\n",
    "class C(A):\n",
    "    pass\n",
    "\n",
    "class D(A,C):\n",
    "    pass"
   ]
  }
 ],
 "metadata": {
  "kernelspec": {
   "display_name": "Python 3 (ipykernel)",
   "language": "python",
   "name": "python3"
  },
  "language_info": {
   "codemirror_mode": {
    "name": "ipython",
    "version": 3
   },
   "file_extension": ".py",
   "mimetype": "text/x-python",
   "name": "python",
   "nbconvert_exporter": "python",
   "pygments_lexer": "ipython3",
   "version": "3.10.8"
  }
 },
 "nbformat": 4,
 "nbformat_minor": 5
}
